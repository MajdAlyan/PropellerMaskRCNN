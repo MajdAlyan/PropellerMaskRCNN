{
 "cells": [
  {
   "cell_type": "raw",
   "id": "dfe67fe9-ec93-47ac-9006-e91899f4f065",
   "metadata": {},
   "source": [
    "\"\"\"\n",
    "Mask R-CNN wird mit Tipvortexcavitationdatensatz trainiert. Farbspritzereffekt(color splash effect) wird im Algorithmus Implementiert\n",
    "\n",
    "------------------------------------------------------------\n",
    "\n",
    "# Ein neues Modell wird mit den vortrainierten Coco-Gewichten trainiert\n",
    "python3 Tipvortexcavitation.py train --dataset=/path/to/Tipvortexcavitation/dataset --weights=coco \n",
    "für Linux der Pfad und die Gewichte von Coco dataset\n",
    "python  Tipvortexcavitation.py train --dataset=C:/Users/majd4/Desktop/Bachelorarbeit/Bachelor-Arbeit-Daten/MaskRCNNProjekt/MaskRCNN_2/Mask_RCNN/datasets/Tipvortexcavitation --weights=coco\n",
    "\n",
    "# Fortsetzen des Trainierens von einem Modell, was schon trainiert wurde \n",
    "python3 Tipvortexcavitation.py train --dataset=/path/to/Tipvortexcavitation/dataset --weights=last für Linux \n",
    "python  Tipvortexcavitation.py train --dataset=D:/Bachelor-Arbeit-Daten/MaskRCNNProjekt/MaskRCNN_2/Mask_RCNN/datasets/Tipvortexcavitation --weights=last\n",
    "\n",
    "# Ein neues Modell wird mit den ImageNet-Gewichten trainiert\n",
    "python3 Tipvortexcavitation.py train --dataset=/path/to/Tipvortexcavitation/dataset --weights=imagenet für Linux\n",
    "python  Tipvortexcavitation.py train --dataset=D:/Bachelor-Arbeit-Daten/MaskRCNNProjekt/MaskRCNN_2/Mask_RCNN/datasets/Tipvortexcavitation --weights=imagenet\n",
    "    \n",
    "# Farbspritzer(color splash) auf ein Bild anwenden\n",
    "python3 Tipvortexcavitation.py splash --weights=/path/to/weights/file.h5 --image=<URL or path to file> für Linux\n",
    "python Tipvortexcavitation.py  splash --weights=D:/Bachelor-Arbeit-Daten/MaskRCNNProjekt/MaskRCNN_2/Mask_RCNN/mask_rcnn_tipvortexcavitation_0020.h5 --image=D:/Bachelor-Arbeit-Daten/MaskRCNNProjekt/MaskRCNN_2/Mask_RCNN/111.jpg\n",
    "    \n",
    "# Farbspritzer (color splash) anwenden mit den zuletzt trainierten Gewichten\n",
    "python3 Tipvortexcavitation.py splash --weights=last --video=<URL or path to file> für Linux\n",
    "python  Tipvortexcavitation.py splash --weights=last --video=<URL or path to file>  für Windows\n",
    "python Tipvortexcavitation.py splash --weights=D:/Bachelor-Arbeit-Daten/MaskRCNNProjekt/MaskRCNN_2/Mask_RCNN/mask_rcnn_tipvortexcavitation_0020.h5 --video=D:/Bachelor-Arbeit-Daten/MaskRCNNProjekt/MaskRCNN_2/Mask_RCNN/11.mp4 \n",
    "\"\"\""
   ]
  },
  {
   "cell_type": "markdown",
   "id": "b70766b3-bd77-441d-a2db-bb9d51c72b04",
   "metadata": {},
   "source": [
    "\"\"\"\n",
    "Mask R-CNN wird mit Tipvortexcavitationdatensatz trainiert. Farbspritzereffekt(color splash effect) wird im Algorithmus Implementiert\n",
    "\n",
    "------------------------------------------------------------\n",
    "\n",
    "# Ein neues Modell wird mit den vortrainierten Coco-Gewichten trainiert\n",
    "python3 Tipvortexcavitation.py train --dataset=/path/to/Tipvortexcavitation/dataset --weights=coco \n",
    "für Linux der Pfad und die Gewichte von Coco dataset. \n",
    "\n",
    "python  Tipvortexcavitation.py train --dataset=C:/Users/majd4/Desktop/Bachelorarbeit/Bachelor-Arbeit-Daten/MaskRCNNProjekt/MaskRCNN_2/Mask_RCNN/datasets/Tipvortexcavitation --weights=coco\n",
    "\n",
    "# Fortsetzen des Trainierens von einem Modell, was schon trainiert wurde \n",
    "python3 Tipvortexcavitation.py train --dataset=/path/to/Tipvortexcavitation/dataset --weights=last für Linux \n",
    "python  Tipvortexcavitation.py train --dataset=D:/Bachelor-Arbeit-Daten/MaskRCNNProjekt/MaskRCNN_2/Mask_RCNN/datasets/Tipvortexcavitation --weights=last\n",
    "\n",
    "# Ein neues Modell wird mit den ImageNet-Gewichten trainiert\n",
    "python3 Tipvortexcavitation.py train --dataset=/path/to/Tipvortexcavitation/dataset --weights=imagenet für Linux\n",
    "python  Tipvortexcavitation.py train --dataset=D:/Bachelor-Arbeit-Daten/MaskRCNNProjekt/MaskRCNN_2/Mask_RCNN/datasets/Tipvortexcavitation --weights=imagenet\n",
    "    \n",
    "# Farbspritzer(color splash) auf ein Bild anwenden\n",
    "python3 Tipvortexcavitation.py splash --weights=/path/to/weights/file.h5 --image=<URL or path to file> für Linux\n",
    "python Tipvortexcavitation.py  splash --weights=D:/Bachelor-Arbeit-Daten/MaskRCNNProjekt/MaskRCNN_2/Mask_RCNN/mask_rcnn_tipvortexcavitation_0020.h5 --image=D:/Bachelor-Arbeit-Daten/MaskRCNNProjekt/MaskRCNN_2/Mask_RCNN/111.jpg\n",
    "    \n",
    "# Farbspritzer (color splash) anwenden mit den zuletzt trainierten Gewichten\n",
    "python3 Tipvortexcavitation.py splash --weights=last --video=<URL or path to file> für Linux\n",
    "python  Tipvortexcavitation.py splash --weights=last --video=<URL or path to file>  für Windows\n",
    "python Tipvortexcavitation.py splash --weights=D:/Bachelor-Arbeit-Daten/MaskRCNNProjekt/MaskRCNN_2/Mask_RCNN/mask_rcnn_tipvortexcavitation_0020.h5 --video=D:/Bachelor-Arbeit-Daten/MaskRCNNProjekt/MaskRCNN_2/Mask_RCNN/11.mp4 \n",
    "\"\"\""
   ]
  },
  {
   "cell_type": "code",
   "execution_count": null,
   "id": "2978299e-4d4b-409c-ab4c-0f6514c57ec6",
   "metadata": {},
   "outputs": [],
   "source": []
  }
 ],
 "metadata": {
  "kernelspec": {
   "display_name": "Python 3",
   "language": "python",
   "name": "python3"
  },
  "language_info": {
   "codemirror_mode": {
    "name": "ipython",
    "version": 3
   },
   "file_extension": ".py",
   "mimetype": "text/x-python",
   "name": "python",
   "nbconvert_exporter": "python",
   "pygments_lexer": "ipython3",
   "version": "3.6.13"
  }
 },
 "nbformat": 4,
 "nbformat_minor": 5
}
